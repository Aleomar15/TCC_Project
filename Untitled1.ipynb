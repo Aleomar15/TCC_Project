{
 "cells": [
  {
   "cell_type": "code",
   "execution_count": 1,
   "id": "7a73d6f7",
   "metadata": {},
   "outputs": [],
   "source": [
    "import numpy as np\n",
    "import pandas as pd"
   ]
  },
  {
   "cell_type": "code",
   "execution_count": 2,
   "id": "15f27949",
   "metadata": {},
   "outputs": [
    {
     "data": {
      "text/html": [
       "<div>\n",
       "<style scoped>\n",
       "    .dataframe tbody tr th:only-of-type {\n",
       "        vertical-align: middle;\n",
       "    }\n",
       "\n",
       "    .dataframe tbody tr th {\n",
       "        vertical-align: top;\n",
       "    }\n",
       "\n",
       "    .dataframe thead th {\n",
       "        text-align: right;\n",
       "    }\n",
       "</style>\n",
       "<table border=\"1\" class=\"dataframe\">\n",
       "  <thead>\n",
       "    <tr style=\"text-align: right;\">\n",
       "      <th></th>\n",
       "      <th>SE</th>\n",
       "      <th>data_iniSE</th>\n",
       "      <th>casos_est</th>\n",
       "      <th>casos_est_min</th>\n",
       "      <th>casos_est_max</th>\n",
       "      <th>casos</th>\n",
       "      <th>p_rt1</th>\n",
       "      <th>p_inc100k</th>\n",
       "      <th>Localidade_id</th>\n",
       "      <th>nivel</th>\n",
       "      <th>...</th>\n",
       "      <th>umidmin</th>\n",
       "      <th>tempmed</th>\n",
       "      <th>tempmax</th>\n",
       "      <th>casprov</th>\n",
       "      <th>casprov_est</th>\n",
       "      <th>casprov_est_min</th>\n",
       "      <th>casprov_est_max</th>\n",
       "      <th>casconf</th>\n",
       "      <th>notif_accum_year</th>\n",
       "      <th>IBGE</th>\n",
       "    </tr>\n",
       "  </thead>\n",
       "  <tbody>\n",
       "    <tr>\n",
       "      <th>0</th>\n",
       "      <td>202252</td>\n",
       "      <td>2022-12-25</td>\n",
       "      <td>5.0</td>\n",
       "      <td>5</td>\n",
       "      <td>5.0</td>\n",
       "      <td>5</td>\n",
       "      <td>0.916953</td>\n",
       "      <td>71.36740</td>\n",
       "      <td>0</td>\n",
       "      <td>1</td>\n",
       "      <td>...</td>\n",
       "      <td>74.606512</td>\n",
       "      <td>20.945707</td>\n",
       "      <td>23.000000</td>\n",
       "      <td>NaN</td>\n",
       "      <td>NaN</td>\n",
       "      <td>NaN</td>\n",
       "      <td>NaN</td>\n",
       "      <td>NaN</td>\n",
       "      <td>208</td>\n",
       "      <td>3100104</td>\n",
       "    </tr>\n",
       "    <tr>\n",
       "      <th>1</th>\n",
       "      <td>202251</td>\n",
       "      <td>2022-12-18</td>\n",
       "      <td>6.0</td>\n",
       "      <td>6</td>\n",
       "      <td>6.0</td>\n",
       "      <td>6</td>\n",
       "      <td>0.997569</td>\n",
       "      <td>85.64088</td>\n",
       "      <td>0</td>\n",
       "      <td>1</td>\n",
       "      <td>...</td>\n",
       "      <td>63.208147</td>\n",
       "      <td>20.900641</td>\n",
       "      <td>25.500000</td>\n",
       "      <td>NaN</td>\n",
       "      <td>NaN</td>\n",
       "      <td>NaN</td>\n",
       "      <td>NaN</td>\n",
       "      <td>NaN</td>\n",
       "      <td>208</td>\n",
       "      <td>3100104</td>\n",
       "    </tr>\n",
       "    <tr>\n",
       "      <th>2</th>\n",
       "      <td>202250</td>\n",
       "      <td>2022-12-11</td>\n",
       "      <td>0.0</td>\n",
       "      <td>0</td>\n",
       "      <td>0.0</td>\n",
       "      <td>0</td>\n",
       "      <td>0.000000</td>\n",
       "      <td>0.00000</td>\n",
       "      <td>0</td>\n",
       "      <td>1</td>\n",
       "      <td>...</td>\n",
       "      <td>60.142096</td>\n",
       "      <td>21.657585</td>\n",
       "      <td>26.166667</td>\n",
       "      <td>NaN</td>\n",
       "      <td>NaN</td>\n",
       "      <td>NaN</td>\n",
       "      <td>NaN</td>\n",
       "      <td>NaN</td>\n",
       "      <td>208</td>\n",
       "      <td>3100104</td>\n",
       "    </tr>\n",
       "    <tr>\n",
       "      <th>3</th>\n",
       "      <td>202249</td>\n",
       "      <td>2022-12-04</td>\n",
       "      <td>0.0</td>\n",
       "      <td>0</td>\n",
       "      <td>0.0</td>\n",
       "      <td>0</td>\n",
       "      <td>0.000000</td>\n",
       "      <td>0.00000</td>\n",
       "      <td>0</td>\n",
       "      <td>1</td>\n",
       "      <td>...</td>\n",
       "      <td>57.192086</td>\n",
       "      <td>22.308983</td>\n",
       "      <td>26.428571</td>\n",
       "      <td>NaN</td>\n",
       "      <td>NaN</td>\n",
       "      <td>NaN</td>\n",
       "      <td>NaN</td>\n",
       "      <td>NaN</td>\n",
       "      <td>208</td>\n",
       "      <td>3100104</td>\n",
       "    </tr>\n",
       "    <tr>\n",
       "      <th>4</th>\n",
       "      <td>202248</td>\n",
       "      <td>2022-11-27</td>\n",
       "      <td>0.0</td>\n",
       "      <td>0</td>\n",
       "      <td>0.0</td>\n",
       "      <td>0</td>\n",
       "      <td>0.000000</td>\n",
       "      <td>0.00000</td>\n",
       "      <td>0</td>\n",
       "      <td>1</td>\n",
       "      <td>...</td>\n",
       "      <td>47.394669</td>\n",
       "      <td>22.511905</td>\n",
       "      <td>27.428571</td>\n",
       "      <td>NaN</td>\n",
       "      <td>NaN</td>\n",
       "      <td>NaN</td>\n",
       "      <td>NaN</td>\n",
       "      <td>NaN</td>\n",
       "      <td>208</td>\n",
       "      <td>3100104</td>\n",
       "    </tr>\n",
       "  </tbody>\n",
       "</table>\n",
       "<p>5 rows × 31 columns</p>\n",
       "</div>"
      ],
      "text/plain": [
       "       SE  data_iniSE  casos_est  casos_est_min  casos_est_max  casos  \\\n",
       "0  202252  2022-12-25        5.0              5            5.0      5   \n",
       "1  202251  2022-12-18        6.0              6            6.0      6   \n",
       "2  202250  2022-12-11        0.0              0            0.0      0   \n",
       "3  202249  2022-12-04        0.0              0            0.0      0   \n",
       "4  202248  2022-11-27        0.0              0            0.0      0   \n",
       "\n",
       "      p_rt1  p_inc100k  Localidade_id  nivel  ...    umidmin    tempmed  \\\n",
       "0  0.916953   71.36740              0      1  ...  74.606512  20.945707   \n",
       "1  0.997569   85.64088              0      1  ...  63.208147  20.900641   \n",
       "2  0.000000    0.00000              0      1  ...  60.142096  21.657585   \n",
       "3  0.000000    0.00000              0      1  ...  57.192086  22.308983   \n",
       "4  0.000000    0.00000              0      1  ...  47.394669  22.511905   \n",
       "\n",
       "     tempmax  casprov  casprov_est  casprov_est_min  casprov_est_max  casconf  \\\n",
       "0  23.000000      NaN          NaN              NaN              NaN      NaN   \n",
       "1  25.500000      NaN          NaN              NaN              NaN      NaN   \n",
       "2  26.166667      NaN          NaN              NaN              NaN      NaN   \n",
       "3  26.428571      NaN          NaN              NaN              NaN      NaN   \n",
       "4  27.428571      NaN          NaN              NaN              NaN      NaN   \n",
       "\n",
       "   notif_accum_year     IBGE  \n",
       "0               208  3100104  \n",
       "1               208  3100104  \n",
       "2               208  3100104  \n",
       "3               208  3100104  \n",
       "4               208  3100104  \n",
       "\n",
       "[5 rows x 31 columns]"
      ]
     },
     "execution_count": 2,
     "metadata": {},
     "output_type": "execute_result"
    }
   ],
   "source": [
    "df = pd.read_csv('DataTCC.csv')\n",
    "df.head()"
   ]
  },
  {
   "cell_type": "code",
   "execution_count": 6,
   "id": "5a41beff",
   "metadata": {},
   "outputs": [
    {
     "name": "stdout",
     "output_type": "stream",
     "text": [
      "<class 'pandas.core.frame.DataFrame'>\n",
      "RangeIndex: 267140 entries, 0 to 267139\n",
      "Data columns (total 31 columns):\n",
      " #   Column            Non-Null Count   Dtype  \n",
      "---  ------            --------------   -----  \n",
      " 0   SE                267140 non-null  int64  \n",
      " 1   data_iniSE        267140 non-null  object \n",
      " 2   casos_est         267140 non-null  float64\n",
      " 3   casos_est_min     267140 non-null  int64  \n",
      " 4   casos_est_max     267134 non-null  float64\n",
      " 5   casos             267140 non-null  int64  \n",
      " 6   p_rt1             267140 non-null  float64\n",
      " 7   p_inc100k         267140 non-null  float64\n",
      " 8   Localidade_id     267140 non-null  int64  \n",
      " 9   nivel             267140 non-null  int64  \n",
      " 10  id                267140 non-null  int64  \n",
      " 11  versao_modelo     267140 non-null  object \n",
      " 12  tweet             266863 non-null  float64\n",
      " 13  Rt                267140 non-null  float64\n",
      " 14  pop               267140 non-null  float64\n",
      " 15  tempmin           266276 non-null  float64\n",
      " 16  umidmax           256477 non-null  float64\n",
      " 17  receptivo         267140 non-null  int64  \n",
      " 18  transmissao       267140 non-null  int64  \n",
      " 19  nivel_inc         267140 non-null  int64  \n",
      " 20  umidmed           72598 non-null   float64\n",
      " 21  umidmin           72598 non-null   float64\n",
      " 22  tempmed           72598 non-null   float64\n",
      " 23  tempmax           72598 non-null   float64\n",
      " 24  casprov           0 non-null       float64\n",
      " 25  casprov_est       0 non-null       float64\n",
      " 26  casprov_est_min   0 non-null       float64\n",
      " 27  casprov_est_max   0 non-null       float64\n",
      " 28  casconf           0 non-null       float64\n",
      " 29  notif_accum_year  267140 non-null  int64  \n",
      " 30  IBGE              267140 non-null  int64  \n",
      "dtypes: float64(18), int64(11), object(2)\n",
      "memory usage: 63.2+ MB\n"
     ]
    }
   ],
   "source": [
    "df.info()"
   ]
  },
  {
   "cell_type": "markdown",
   "id": "644011b0",
   "metadata": {},
   "source": [
    "## Analise Exploratória de Dados"
   ]
  },
  {
   "cell_type": "code",
   "execution_count": 7,
   "id": "95268d94",
   "metadata": {},
   "outputs": [
    {
     "data": {
      "text/plain": [
       "SE                       0\n",
       "data_iniSE               0\n",
       "casos_est                0\n",
       "casos_est_min            0\n",
       "casos_est_max            6\n",
       "casos                    0\n",
       "p_rt1                    0\n",
       "p_inc100k                0\n",
       "Localidade_id            0\n",
       "nivel                    0\n",
       "id                       0\n",
       "versao_modelo            0\n",
       "tweet                  277\n",
       "Rt                       0\n",
       "pop                      0\n",
       "tempmin                864\n",
       "umidmax              10663\n",
       "receptivo                0\n",
       "transmissao              0\n",
       "nivel_inc                0\n",
       "umidmed             194542\n",
       "umidmin             194542\n",
       "tempmed             194542\n",
       "tempmax             194542\n",
       "casprov             267140\n",
       "casprov_est         267140\n",
       "casprov_est_min     267140\n",
       "casprov_est_max     267140\n",
       "casconf             267140\n",
       "notif_accum_year         0\n",
       "IBGE                     0\n",
       "dtype: int64"
      ]
     },
     "execution_count": 7,
     "metadata": {},
     "output_type": "execute_result"
    }
   ],
   "source": [
    "df.isnull().sum()"
   ]
  },
  {
   "cell_type": "markdown",
   "id": "b706f060",
   "metadata": {},
   "source": [
    "Umas colunas devem ser retiradas pela quantidade de valores vazios"
   ]
  },
  {
   "cell_type": "code",
   "execution_count": 8,
   "id": "d6952d7a",
   "metadata": {},
   "outputs": [
    {
     "data": {
      "text/plain": [
       "313"
      ]
     },
     "execution_count": 8,
     "metadata": {},
     "output_type": "execute_result"
    }
   ],
   "source": [
    "df.duplicated().sum()"
   ]
  },
  {
   "cell_type": "code",
   "execution_count": 9,
   "id": "1cedcb11",
   "metadata": {},
   "outputs": [
    {
     "data": {
      "text/plain": [
       "0"
      ]
     },
     "execution_count": 9,
     "metadata": {},
     "output_type": "execute_result"
    }
   ],
   "source": [
    "df.drop_duplicates(inplace=True)\n",
    "#Verificando se tem mais linhas duplicadas\n",
    "df.duplicated().sum()"
   ]
  },
  {
   "cell_type": "code",
   "execution_count": 10,
   "id": "97ab214d",
   "metadata": {},
   "outputs": [
    {
     "data": {
      "text/plain": [
       "Index(['SE', 'data_iniSE', 'casos_est', 'casos_est_min', 'casos_est_max',\n",
       "       'casos', 'p_rt1', 'p_inc100k', 'Localidade_id', 'nivel', 'id',\n",
       "       'versao_modelo', 'tweet', 'Rt', 'pop', 'tempmin', 'umidmax',\n",
       "       'receptivo', 'transmissao', 'nivel_inc', 'umidmed', 'umidmin',\n",
       "       'tempmed', 'tempmax', 'casprov', 'casprov_est', 'casprov_est_min',\n",
       "       'casprov_est_max', 'casconf', 'notif_accum_year', 'IBGE'],\n",
       "      dtype='object')"
      ]
     },
     "execution_count": 10,
     "metadata": {},
     "output_type": "execute_result"
    }
   ],
   "source": [
    "df.columns"
   ]
  },
  {
   "cell_type": "code",
   "execution_count": 12,
   "id": "d15974eb",
   "metadata": {},
   "outputs": [],
   "source": [
    "#Excluindo objetos\n",
    "df.drop('data_iniSE',axis=1, inplace=True)\n",
    "#Excluindo colunas nulas\n",
    "df.drop(['umidmed', 'umidmin',\n",
    "       'tempmed', 'tempmax', 'casprov', 'casprov_est', 'casprov_est_min',\n",
    "       'casprov_est_max', 'casconf',],axis=1, inplace=True)\n"
   ]
  },
  {
   "cell_type": "code",
   "execution_count": 13,
   "id": "412412ed",
   "metadata": {},
   "outputs": [
    {
     "data": {
      "text/plain": [
       "SE                      0\n",
       "casos_est               0\n",
       "casos_est_min           0\n",
       "casos_est_max           6\n",
       "casos                   0\n",
       "p_rt1                   0\n",
       "p_inc100k               0\n",
       "Localidade_id           0\n",
       "nivel                   0\n",
       "id                      0\n",
       "versao_modelo           0\n",
       "tweet                 277\n",
       "Rt                      0\n",
       "pop                     0\n",
       "tempmin               864\n",
       "umidmax             10663\n",
       "receptivo               0\n",
       "transmissao             0\n",
       "nivel_inc               0\n",
       "notif_accum_year        0\n",
       "IBGE                    0\n",
       "dtype: int64"
      ]
     },
     "execution_count": 13,
     "metadata": {},
     "output_type": "execute_result"
    }
   ],
   "source": [
    "df.isnull().sum()"
   ]
  },
  {
   "cell_type": "code",
   "execution_count": 16,
   "id": "fc6c639e",
   "metadata": {},
   "outputs": [],
   "source": [
    "#Colocando o resto dos valores nulos em 0\n",
    "df = df.fillna(0)"
   ]
  },
  {
   "cell_type": "code",
   "execution_count": 17,
   "id": "6abaab58",
   "metadata": {},
   "outputs": [
    {
     "data": {
      "text/plain": [
       "SE                  0\n",
       "casos_est           0\n",
       "casos_est_min       0\n",
       "casos_est_max       0\n",
       "casos               0\n",
       "p_rt1               0\n",
       "p_inc100k           0\n",
       "Localidade_id       0\n",
       "nivel               0\n",
       "id                  0\n",
       "versao_modelo       0\n",
       "tweet               0\n",
       "Rt                  0\n",
       "pop                 0\n",
       "tempmin             0\n",
       "umidmax             0\n",
       "receptivo           0\n",
       "transmissao         0\n",
       "nivel_inc           0\n",
       "notif_accum_year    0\n",
       "IBGE                0\n",
       "dtype: int64"
      ]
     },
     "execution_count": 17,
     "metadata": {},
     "output_type": "execute_result"
    }
   ],
   "source": [
    "df.isnull().sum()"
   ]
  },
  {
   "cell_type": "code",
   "execution_count": 18,
   "id": "cd19a9e8",
   "metadata": {},
   "outputs": [],
   "source": [
    "#Retirando colunas que iram ocasionar vicios"
   ]
  },
  {
   "cell_type": "code",
   "execution_count": null,
   "id": "2ef707d6",
   "metadata": {},
   "outputs": [],
   "source": []
  }
 ],
 "metadata": {
  "kernelspec": {
   "display_name": "Python 3 (ipykernel)",
   "language": "python",
   "name": "python3"
  },
  "language_info": {
   "codemirror_mode": {
    "name": "ipython",
    "version": 3
   },
   "file_extension": ".py",
   "mimetype": "text/x-python",
   "name": "python",
   "nbconvert_exporter": "python",
   "pygments_lexer": "ipython3",
   "version": "3.9.13"
  }
 },
 "nbformat": 4,
 "nbformat_minor": 5
}
