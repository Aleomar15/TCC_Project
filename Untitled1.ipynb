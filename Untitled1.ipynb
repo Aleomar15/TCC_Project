{
 "cells": [
  {
   "cell_type": "code",
   "execution_count": 1,
   "id": "7a73d6f7",
   "metadata": {},
   "outputs": [],
   "source": [
    "import numpy as np\n",
    "import pandas as pd\n",
    "import matplotlib.pyplot as plt"
   ]
  },
  {
   "cell_type": "code",
   "execution_count": 2,
   "id": "15f27949",
   "metadata": {},
   "outputs": [
    {
     "data": {
      "text/html": [
       "<div>\n",
       "<style scoped>\n",
       "    .dataframe tbody tr th:only-of-type {\n",
       "        vertical-align: middle;\n",
       "    }\n",
       "\n",
       "    .dataframe tbody tr th {\n",
       "        vertical-align: top;\n",
       "    }\n",
       "\n",
       "    .dataframe thead th {\n",
       "        text-align: right;\n",
       "    }\n",
       "</style>\n",
       "<table border=\"1\" class=\"dataframe\">\n",
       "  <thead>\n",
       "    <tr style=\"text-align: right;\">\n",
       "      <th></th>\n",
       "      <th>SE</th>\n",
       "      <th>data_iniSE</th>\n",
       "      <th>casos_est</th>\n",
       "      <th>casos_est_min</th>\n",
       "      <th>casos_est_max</th>\n",
       "      <th>casos</th>\n",
       "      <th>p_rt1</th>\n",
       "      <th>p_inc100k</th>\n",
       "      <th>Localidade_id</th>\n",
       "      <th>nivel</th>\n",
       "      <th>...</th>\n",
       "      <th>umidmin</th>\n",
       "      <th>tempmed</th>\n",
       "      <th>tempmax</th>\n",
       "      <th>casprov</th>\n",
       "      <th>casprov_est</th>\n",
       "      <th>casprov_est_min</th>\n",
       "      <th>casprov_est_max</th>\n",
       "      <th>casconf</th>\n",
       "      <th>notif_accum_year</th>\n",
       "      <th>IBGE</th>\n",
       "    </tr>\n",
       "  </thead>\n",
       "  <tbody>\n",
       "    <tr>\n",
       "      <th>0</th>\n",
       "      <td>202252</td>\n",
       "      <td>2022-12-25</td>\n",
       "      <td>5.0</td>\n",
       "      <td>5</td>\n",
       "      <td>5.0</td>\n",
       "      <td>5</td>\n",
       "      <td>0.916953</td>\n",
       "      <td>71.36740</td>\n",
       "      <td>0</td>\n",
       "      <td>1</td>\n",
       "      <td>...</td>\n",
       "      <td>74.606512</td>\n",
       "      <td>20.945707</td>\n",
       "      <td>23.000000</td>\n",
       "      <td>NaN</td>\n",
       "      <td>NaN</td>\n",
       "      <td>NaN</td>\n",
       "      <td>NaN</td>\n",
       "      <td>NaN</td>\n",
       "      <td>208</td>\n",
       "      <td>3100104</td>\n",
       "    </tr>\n",
       "    <tr>\n",
       "      <th>1</th>\n",
       "      <td>202251</td>\n",
       "      <td>2022-12-18</td>\n",
       "      <td>6.0</td>\n",
       "      <td>6</td>\n",
       "      <td>6.0</td>\n",
       "      <td>6</td>\n",
       "      <td>0.997569</td>\n",
       "      <td>85.64088</td>\n",
       "      <td>0</td>\n",
       "      <td>1</td>\n",
       "      <td>...</td>\n",
       "      <td>63.208147</td>\n",
       "      <td>20.900641</td>\n",
       "      <td>25.500000</td>\n",
       "      <td>NaN</td>\n",
       "      <td>NaN</td>\n",
       "      <td>NaN</td>\n",
       "      <td>NaN</td>\n",
       "      <td>NaN</td>\n",
       "      <td>208</td>\n",
       "      <td>3100104</td>\n",
       "    </tr>\n",
       "    <tr>\n",
       "      <th>2</th>\n",
       "      <td>202250</td>\n",
       "      <td>2022-12-11</td>\n",
       "      <td>0.0</td>\n",
       "      <td>0</td>\n",
       "      <td>0.0</td>\n",
       "      <td>0</td>\n",
       "      <td>0.000000</td>\n",
       "      <td>0.00000</td>\n",
       "      <td>0</td>\n",
       "      <td>1</td>\n",
       "      <td>...</td>\n",
       "      <td>60.142096</td>\n",
       "      <td>21.657585</td>\n",
       "      <td>26.166667</td>\n",
       "      <td>NaN</td>\n",
       "      <td>NaN</td>\n",
       "      <td>NaN</td>\n",
       "      <td>NaN</td>\n",
       "      <td>NaN</td>\n",
       "      <td>208</td>\n",
       "      <td>3100104</td>\n",
       "    </tr>\n",
       "    <tr>\n",
       "      <th>3</th>\n",
       "      <td>202249</td>\n",
       "      <td>2022-12-04</td>\n",
       "      <td>0.0</td>\n",
       "      <td>0</td>\n",
       "      <td>0.0</td>\n",
       "      <td>0</td>\n",
       "      <td>0.000000</td>\n",
       "      <td>0.00000</td>\n",
       "      <td>0</td>\n",
       "      <td>1</td>\n",
       "      <td>...</td>\n",
       "      <td>57.192086</td>\n",
       "      <td>22.308983</td>\n",
       "      <td>26.428571</td>\n",
       "      <td>NaN</td>\n",
       "      <td>NaN</td>\n",
       "      <td>NaN</td>\n",
       "      <td>NaN</td>\n",
       "      <td>NaN</td>\n",
       "      <td>208</td>\n",
       "      <td>3100104</td>\n",
       "    </tr>\n",
       "    <tr>\n",
       "      <th>4</th>\n",
       "      <td>202248</td>\n",
       "      <td>2022-11-27</td>\n",
       "      <td>0.0</td>\n",
       "      <td>0</td>\n",
       "      <td>0.0</td>\n",
       "      <td>0</td>\n",
       "      <td>0.000000</td>\n",
       "      <td>0.00000</td>\n",
       "      <td>0</td>\n",
       "      <td>1</td>\n",
       "      <td>...</td>\n",
       "      <td>47.394669</td>\n",
       "      <td>22.511905</td>\n",
       "      <td>27.428571</td>\n",
       "      <td>NaN</td>\n",
       "      <td>NaN</td>\n",
       "      <td>NaN</td>\n",
       "      <td>NaN</td>\n",
       "      <td>NaN</td>\n",
       "      <td>208</td>\n",
       "      <td>3100104</td>\n",
       "    </tr>\n",
       "  </tbody>\n",
       "</table>\n",
       "<p>5 rows × 31 columns</p>\n",
       "</div>"
      ],
      "text/plain": [
       "       SE  data_iniSE  casos_est  casos_est_min  casos_est_max  casos  \\\n",
       "0  202252  2022-12-25        5.0              5            5.0      5   \n",
       "1  202251  2022-12-18        6.0              6            6.0      6   \n",
       "2  202250  2022-12-11        0.0              0            0.0      0   \n",
       "3  202249  2022-12-04        0.0              0            0.0      0   \n",
       "4  202248  2022-11-27        0.0              0            0.0      0   \n",
       "\n",
       "      p_rt1  p_inc100k  Localidade_id  nivel  ...    umidmin    tempmed  \\\n",
       "0  0.916953   71.36740              0      1  ...  74.606512  20.945707   \n",
       "1  0.997569   85.64088              0      1  ...  63.208147  20.900641   \n",
       "2  0.000000    0.00000              0      1  ...  60.142096  21.657585   \n",
       "3  0.000000    0.00000              0      1  ...  57.192086  22.308983   \n",
       "4  0.000000    0.00000              0      1  ...  47.394669  22.511905   \n",
       "\n",
       "     tempmax  casprov  casprov_est  casprov_est_min  casprov_est_max  casconf  \\\n",
       "0  23.000000      NaN          NaN              NaN              NaN      NaN   \n",
       "1  25.500000      NaN          NaN              NaN              NaN      NaN   \n",
       "2  26.166667      NaN          NaN              NaN              NaN      NaN   \n",
       "3  26.428571      NaN          NaN              NaN              NaN      NaN   \n",
       "4  27.428571      NaN          NaN              NaN              NaN      NaN   \n",
       "\n",
       "   notif_accum_year     IBGE  \n",
       "0               208  3100104  \n",
       "1               208  3100104  \n",
       "2               208  3100104  \n",
       "3               208  3100104  \n",
       "4               208  3100104  \n",
       "\n",
       "[5 rows x 31 columns]"
      ]
     },
     "execution_count": 2,
     "metadata": {},
     "output_type": "execute_result"
    }
   ],
   "source": [
    "df = pd.read_csv('DataTCC.csv')\n",
    "df.head()"
   ]
  },
  {
   "cell_type": "code",
   "execution_count": 3,
   "id": "5a41beff",
   "metadata": {},
   "outputs": [
    {
     "name": "stdout",
     "output_type": "stream",
     "text": [
      "<class 'pandas.core.frame.DataFrame'>\n",
      "RangeIndex: 267140 entries, 0 to 267139\n",
      "Data columns (total 31 columns):\n",
      " #   Column            Non-Null Count   Dtype  \n",
      "---  ------            --------------   -----  \n",
      " 0   SE                267140 non-null  int64  \n",
      " 1   data_iniSE        267140 non-null  object \n",
      " 2   casos_est         267140 non-null  float64\n",
      " 3   casos_est_min     267140 non-null  int64  \n",
      " 4   casos_est_max     267134 non-null  float64\n",
      " 5   casos             267140 non-null  int64  \n",
      " 6   p_rt1             267140 non-null  float64\n",
      " 7   p_inc100k         267140 non-null  float64\n",
      " 8   Localidade_id     267140 non-null  int64  \n",
      " 9   nivel             267140 non-null  int64  \n",
      " 10  id                267140 non-null  int64  \n",
      " 11  versao_modelo     267140 non-null  object \n",
      " 12  tweet             266863 non-null  float64\n",
      " 13  Rt                267140 non-null  float64\n",
      " 14  pop               267140 non-null  float64\n",
      " 15  tempmin           266276 non-null  float64\n",
      " 16  umidmax           256477 non-null  float64\n",
      " 17  receptivo         267140 non-null  int64  \n",
      " 18  transmissao       267140 non-null  int64  \n",
      " 19  nivel_inc         267140 non-null  int64  \n",
      " 20  umidmed           72598 non-null   float64\n",
      " 21  umidmin           72598 non-null   float64\n",
      " 22  tempmed           72598 non-null   float64\n",
      " 23  tempmax           72598 non-null   float64\n",
      " 24  casprov           0 non-null       float64\n",
      " 25  casprov_est       0 non-null       float64\n",
      " 26  casprov_est_min   0 non-null       float64\n",
      " 27  casprov_est_max   0 non-null       float64\n",
      " 28  casconf           0 non-null       float64\n",
      " 29  notif_accum_year  267140 non-null  int64  \n",
      " 30  IBGE              267140 non-null  int64  \n",
      "dtypes: float64(18), int64(11), object(2)\n",
      "memory usage: 63.2+ MB\n"
     ]
    }
   ],
   "source": [
    "df.info()"
   ]
  },
  {
   "cell_type": "markdown",
   "id": "644011b0",
   "metadata": {},
   "source": [
    "## Analise Exploratória de Dados"
   ]
  },
  {
   "cell_type": "code",
   "execution_count": 4,
   "id": "95268d94",
   "metadata": {},
   "outputs": [
    {
     "data": {
      "text/plain": [
       "SE                       0\n",
       "data_iniSE               0\n",
       "casos_est                0\n",
       "casos_est_min            0\n",
       "casos_est_max            6\n",
       "casos                    0\n",
       "p_rt1                    0\n",
       "p_inc100k                0\n",
       "Localidade_id            0\n",
       "nivel                    0\n",
       "id                       0\n",
       "versao_modelo            0\n",
       "tweet                  277\n",
       "Rt                       0\n",
       "pop                      0\n",
       "tempmin                864\n",
       "umidmax              10663\n",
       "receptivo                0\n",
       "transmissao              0\n",
       "nivel_inc                0\n",
       "umidmed             194542\n",
       "umidmin             194542\n",
       "tempmed             194542\n",
       "tempmax             194542\n",
       "casprov             267140\n",
       "casprov_est         267140\n",
       "casprov_est_min     267140\n",
       "casprov_est_max     267140\n",
       "casconf             267140\n",
       "notif_accum_year         0\n",
       "IBGE                     0\n",
       "dtype: int64"
      ]
     },
     "execution_count": 4,
     "metadata": {},
     "output_type": "execute_result"
    }
   ],
   "source": [
    "df.isnull().sum()"
   ]
  },
  {
   "cell_type": "markdown",
   "id": "b706f060",
   "metadata": {},
   "source": [
    "Umas colunas devem ser retiradas pela quantidade de valores vazios"
   ]
  },
  {
   "cell_type": "code",
   "execution_count": 5,
   "id": "d6952d7a",
   "metadata": {},
   "outputs": [
    {
     "data": {
      "text/plain": [
       "313"
      ]
     },
     "execution_count": 5,
     "metadata": {},
     "output_type": "execute_result"
    }
   ],
   "source": [
    "df.duplicated().sum()"
   ]
  },
  {
   "cell_type": "code",
   "execution_count": 6,
   "id": "1cedcb11",
   "metadata": {},
   "outputs": [
    {
     "data": {
      "text/plain": [
       "0"
      ]
     },
     "execution_count": 6,
     "metadata": {},
     "output_type": "execute_result"
    }
   ],
   "source": [
    "df.drop_duplicates(inplace=True)\n",
    "#Verificando se tem mais linhas duplicadas\n",
    "df.duplicated().sum()"
   ]
  },
  {
   "cell_type": "code",
   "execution_count": 7,
   "id": "97ab214d",
   "metadata": {},
   "outputs": [
    {
     "data": {
      "text/plain": [
       "Index(['SE', 'data_iniSE', 'casos_est', 'casos_est_min', 'casos_est_max',\n",
       "       'casos', 'p_rt1', 'p_inc100k', 'Localidade_id', 'nivel', 'id',\n",
       "       'versao_modelo', 'tweet', 'Rt', 'pop', 'tempmin', 'umidmax',\n",
       "       'receptivo', 'transmissao', 'nivel_inc', 'umidmed', 'umidmin',\n",
       "       'tempmed', 'tempmax', 'casprov', 'casprov_est', 'casprov_est_min',\n",
       "       'casprov_est_max', 'casconf', 'notif_accum_year', 'IBGE'],\n",
       "      dtype='object')"
      ]
     },
     "execution_count": 7,
     "metadata": {},
     "output_type": "execute_result"
    }
   ],
   "source": [
    "df.columns"
   ]
  },
  {
   "cell_type": "code",
   "execution_count": 8,
   "id": "d15974eb",
   "metadata": {},
   "outputs": [],
   "source": [
    "#Excluindo objetos\n",
    "df.drop(['data_iniSE','versao_modelo'],axis=1, inplace=True)\n",
    "#Excluindo colunas nulas\n",
    "df.drop(['umidmed', 'umidmin',\n",
    "       'tempmed', 'tempmax', 'casprov', 'casprov_est', 'casprov_est_min',\n",
    "       'casprov_est_max', 'casconf',],axis=1, inplace=True)\n"
   ]
  },
  {
   "cell_type": "code",
   "execution_count": 9,
   "id": "412412ed",
   "metadata": {},
   "outputs": [
    {
     "data": {
      "text/plain": [
       "SE                      0\n",
       "casos_est               0\n",
       "casos_est_min           0\n",
       "casos_est_max           6\n",
       "casos                   0\n",
       "p_rt1                   0\n",
       "p_inc100k               0\n",
       "Localidade_id           0\n",
       "nivel                   0\n",
       "id                      0\n",
       "tweet                 277\n",
       "Rt                      0\n",
       "pop                     0\n",
       "tempmin               864\n",
       "umidmax             10663\n",
       "receptivo               0\n",
       "transmissao             0\n",
       "nivel_inc               0\n",
       "notif_accum_year        0\n",
       "IBGE                    0\n",
       "dtype: int64"
      ]
     },
     "execution_count": 9,
     "metadata": {},
     "output_type": "execute_result"
    }
   ],
   "source": [
    "df.isnull().sum()"
   ]
  },
  {
   "cell_type": "code",
   "execution_count": 10,
   "id": "fc6c639e",
   "metadata": {},
   "outputs": [],
   "source": [
    "#Colocando o resto dos valores nulos em 0\n",
    "df = df.fillna(0)"
   ]
  },
  {
   "cell_type": "code",
   "execution_count": 11,
   "id": "6abaab58",
   "metadata": {},
   "outputs": [
    {
     "data": {
      "text/plain": [
       "SE                  0\n",
       "casos_est           0\n",
       "casos_est_min       0\n",
       "casos_est_max       0\n",
       "casos               0\n",
       "p_rt1               0\n",
       "p_inc100k           0\n",
       "Localidade_id       0\n",
       "nivel               0\n",
       "id                  0\n",
       "tweet               0\n",
       "Rt                  0\n",
       "pop                 0\n",
       "tempmin             0\n",
       "umidmax             0\n",
       "receptivo           0\n",
       "transmissao         0\n",
       "nivel_inc           0\n",
       "notif_accum_year    0\n",
       "IBGE                0\n",
       "dtype: int64"
      ]
     },
     "execution_count": 11,
     "metadata": {},
     "output_type": "execute_result"
    }
   ],
   "source": [
    "df.isnull().sum()"
   ]
  },
  {
   "cell_type": "code",
   "execution_count": 12,
   "id": "cd19a9e8",
   "metadata": {},
   "outputs": [],
   "source": [
    "#Retirando colunas que iram ocasionar vicios\n",
    "df.drop(['notif_accum_year','p_rt1','nivel'],axis=1, inplace=True)"
   ]
  },
  {
   "cell_type": "code",
   "execution_count": 13,
   "id": "2ef707d6",
   "metadata": {},
   "outputs": [
    {
     "data": {
      "text/plain": [
       "Index(['SE', 'casos_est', 'casos_est_min', 'casos_est_max', 'casos',\n",
       "       'p_inc100k', 'Localidade_id', 'id', 'tweet', 'Rt', 'pop', 'tempmin',\n",
       "       'umidmax', 'receptivo', 'transmissao', 'nivel_inc', 'IBGE'],\n",
       "      dtype='object')"
      ]
     },
     "execution_count": 13,
     "metadata": {},
     "output_type": "execute_result"
    }
   ],
   "source": [
    "df.columns"
   ]
  },
  {
   "cell_type": "code",
   "execution_count": 14,
   "id": "a5a8f12f",
   "metadata": {},
   "outputs": [
    {
     "data": {
      "text/html": [
       "<div>\n",
       "<style scoped>\n",
       "    .dataframe tbody tr th:only-of-type {\n",
       "        vertical-align: middle;\n",
       "    }\n",
       "\n",
       "    .dataframe tbody tr th {\n",
       "        vertical-align: top;\n",
       "    }\n",
       "\n",
       "    .dataframe thead th {\n",
       "        text-align: right;\n",
       "    }\n",
       "</style>\n",
       "<table border=\"1\" class=\"dataframe\">\n",
       "  <thead>\n",
       "    <tr style=\"text-align: right;\">\n",
       "      <th></th>\n",
       "      <th>SE</th>\n",
       "      <th>casos_est</th>\n",
       "      <th>casos_est_min</th>\n",
       "      <th>casos_est_max</th>\n",
       "      <th>casos</th>\n",
       "      <th>p_inc100k</th>\n",
       "      <th>Localidade_id</th>\n",
       "      <th>id</th>\n",
       "      <th>tweet</th>\n",
       "      <th>Rt</th>\n",
       "      <th>pop</th>\n",
       "      <th>tempmin</th>\n",
       "      <th>umidmax</th>\n",
       "      <th>receptivo</th>\n",
       "      <th>transmissao</th>\n",
       "      <th>nivel_inc</th>\n",
       "      <th>IBGE</th>\n",
       "    </tr>\n",
       "  </thead>\n",
       "  <tbody>\n",
       "    <tr>\n",
       "      <th>SE</th>\n",
       "      <td>1.000000</td>\n",
       "      <td>-0.000689</td>\n",
       "      <td>-0.000689</td>\n",
       "      <td>0.000665</td>\n",
       "      <td>-0.000689</td>\n",
       "      <td>0.028072</td>\n",
       "      <td>NaN</td>\n",
       "      <td>0.000075</td>\n",
       "      <td>0.006072</td>\n",
       "      <td>-0.000754</td>\n",
       "      <td>0.000146</td>\n",
       "      <td>0.001169</td>\n",
       "      <td>0.131103</td>\n",
       "      <td>0.005782</td>\n",
       "      <td>0.019192</td>\n",
       "      <td>0.047702</td>\n",
       "      <td>0.000075</td>\n",
       "    </tr>\n",
       "    <tr>\n",
       "      <th>casos_est</th>\n",
       "      <td>-0.000689</td>\n",
       "      <td>1.000000</td>\n",
       "      <td>1.000000</td>\n",
       "      <td>0.693516</td>\n",
       "      <td>1.000000</td>\n",
       "      <td>0.233359</td>\n",
       "      <td>NaN</td>\n",
       "      <td>-0.008303</td>\n",
       "      <td>0.724134</td>\n",
       "      <td>0.008483</td>\n",
       "      <td>0.302751</td>\n",
       "      <td>0.013656</td>\n",
       "      <td>0.006423</td>\n",
       "      <td>0.077839</td>\n",
       "      <td>0.148075</td>\n",
       "      <td>0.190368</td>\n",
       "      <td>-0.008303</td>\n",
       "    </tr>\n",
       "    <tr>\n",
       "      <th>casos_est_min</th>\n",
       "      <td>-0.000689</td>\n",
       "      <td>1.000000</td>\n",
       "      <td>1.000000</td>\n",
       "      <td>0.693516</td>\n",
       "      <td>1.000000</td>\n",
       "      <td>0.233359</td>\n",
       "      <td>NaN</td>\n",
       "      <td>-0.008303</td>\n",
       "      <td>0.724134</td>\n",
       "      <td>0.008483</td>\n",
       "      <td>0.302751</td>\n",
       "      <td>0.013656</td>\n",
       "      <td>0.006423</td>\n",
       "      <td>0.077839</td>\n",
       "      <td>0.148075</td>\n",
       "      <td>0.190368</td>\n",
       "      <td>-0.008303</td>\n",
       "    </tr>\n",
       "    <tr>\n",
       "      <th>casos_est_max</th>\n",
       "      <td>0.000665</td>\n",
       "      <td>0.693516</td>\n",
       "      <td>0.693516</td>\n",
       "      <td>1.000000</td>\n",
       "      <td>0.693516</td>\n",
       "      <td>0.287810</td>\n",
       "      <td>NaN</td>\n",
       "      <td>-0.004710</td>\n",
       "      <td>0.324067</td>\n",
       "      <td>0.011972</td>\n",
       "      <td>0.315865</td>\n",
       "      <td>0.019447</td>\n",
       "      <td>0.008076</td>\n",
       "      <td>0.102921</td>\n",
       "      <td>0.188852</td>\n",
       "      <td>0.250171</td>\n",
       "      <td>-0.004710</td>\n",
       "    </tr>\n",
       "    <tr>\n",
       "      <th>casos</th>\n",
       "      <td>-0.000689</td>\n",
       "      <td>1.000000</td>\n",
       "      <td>1.000000</td>\n",
       "      <td>0.693516</td>\n",
       "      <td>1.000000</td>\n",
       "      <td>0.233359</td>\n",
       "      <td>NaN</td>\n",
       "      <td>-0.008303</td>\n",
       "      <td>0.724134</td>\n",
       "      <td>0.008483</td>\n",
       "      <td>0.302751</td>\n",
       "      <td>0.013656</td>\n",
       "      <td>0.006423</td>\n",
       "      <td>0.077839</td>\n",
       "      <td>0.148075</td>\n",
       "      <td>0.190368</td>\n",
       "      <td>-0.008303</td>\n",
       "    </tr>\n",
       "    <tr>\n",
       "      <th>p_inc100k</th>\n",
       "      <td>0.028072</td>\n",
       "      <td>0.233359</td>\n",
       "      <td>0.233359</td>\n",
       "      <td>0.287810</td>\n",
       "      <td>0.233359</td>\n",
       "      <td>1.000000</td>\n",
       "      <td>NaN</td>\n",
       "      <td>0.004121</td>\n",
       "      <td>0.060327</td>\n",
       "      <td>0.111369</td>\n",
       "      <td>0.030806</td>\n",
       "      <td>0.066381</td>\n",
       "      <td>0.030581</td>\n",
       "      <td>0.321552</td>\n",
       "      <td>0.417020</td>\n",
       "      <td>0.660395</td>\n",
       "      <td>0.004121</td>\n",
       "    </tr>\n",
       "    <tr>\n",
       "      <th>Localidade_id</th>\n",
       "      <td>NaN</td>\n",
       "      <td>NaN</td>\n",
       "      <td>NaN</td>\n",
       "      <td>NaN</td>\n",
       "      <td>NaN</td>\n",
       "      <td>NaN</td>\n",
       "      <td>NaN</td>\n",
       "      <td>NaN</td>\n",
       "      <td>NaN</td>\n",
       "      <td>NaN</td>\n",
       "      <td>NaN</td>\n",
       "      <td>NaN</td>\n",
       "      <td>NaN</td>\n",
       "      <td>NaN</td>\n",
       "      <td>NaN</td>\n",
       "      <td>NaN</td>\n",
       "      <td>NaN</td>\n",
       "    </tr>\n",
       "    <tr>\n",
       "      <th>id</th>\n",
       "      <td>0.000075</td>\n",
       "      <td>-0.008303</td>\n",
       "      <td>-0.008303</td>\n",
       "      <td>-0.004710</td>\n",
       "      <td>-0.008303</td>\n",
       "      <td>0.004121</td>\n",
       "      <td>NaN</td>\n",
       "      <td>1.000000</td>\n",
       "      <td>-0.024959</td>\n",
       "      <td>-0.008473</td>\n",
       "      <td>-0.025938</td>\n",
       "      <td>-0.035432</td>\n",
       "      <td>-0.006085</td>\n",
       "      <td>-0.005661</td>\n",
       "      <td>0.005857</td>\n",
       "      <td>0.012196</td>\n",
       "      <td>1.000000</td>\n",
       "    </tr>\n",
       "    <tr>\n",
       "      <th>tweet</th>\n",
       "      <td>0.006072</td>\n",
       "      <td>0.724134</td>\n",
       "      <td>0.724134</td>\n",
       "      <td>0.324067</td>\n",
       "      <td>0.724134</td>\n",
       "      <td>0.060327</td>\n",
       "      <td>NaN</td>\n",
       "      <td>-0.024959</td>\n",
       "      <td>1.000000</td>\n",
       "      <td>0.001163</td>\n",
       "      <td>0.402104</td>\n",
       "      <td>0.001451</td>\n",
       "      <td>0.004730</td>\n",
       "      <td>0.033799</td>\n",
       "      <td>0.050685</td>\n",
       "      <td>0.063750</td>\n",
       "      <td>-0.024959</td>\n",
       "    </tr>\n",
       "    <tr>\n",
       "      <th>Rt</th>\n",
       "      <td>-0.000754</td>\n",
       "      <td>0.008483</td>\n",
       "      <td>0.008483</td>\n",
       "      <td>0.011972</td>\n",
       "      <td>0.008483</td>\n",
       "      <td>0.111369</td>\n",
       "      <td>NaN</td>\n",
       "      <td>-0.008473</td>\n",
       "      <td>0.001163</td>\n",
       "      <td>1.000000</td>\n",
       "      <td>0.013851</td>\n",
       "      <td>0.071466</td>\n",
       "      <td>0.009789</td>\n",
       "      <td>0.410262</td>\n",
       "      <td>0.099059</td>\n",
       "      <td>0.055121</td>\n",
       "      <td>-0.008473</td>\n",
       "    </tr>\n",
       "    <tr>\n",
       "      <th>pop</th>\n",
       "      <td>0.000146</td>\n",
       "      <td>0.302751</td>\n",
       "      <td>0.302751</td>\n",
       "      <td>0.315865</td>\n",
       "      <td>0.302751</td>\n",
       "      <td>0.030806</td>\n",
       "      <td>NaN</td>\n",
       "      <td>-0.025938</td>\n",
       "      <td>0.402104</td>\n",
       "      <td>0.013851</td>\n",
       "      <td>1.000000</td>\n",
       "      <td>0.009539</td>\n",
       "      <td>-0.004031</td>\n",
       "      <td>0.168299</td>\n",
       "      <td>0.111296</td>\n",
       "      <td>0.164322</td>\n",
       "      <td>-0.025938</td>\n",
       "    </tr>\n",
       "    <tr>\n",
       "      <th>tempmin</th>\n",
       "      <td>0.001169</td>\n",
       "      <td>0.013656</td>\n",
       "      <td>0.013656</td>\n",
       "      <td>0.019447</td>\n",
       "      <td>0.013656</td>\n",
       "      <td>0.066381</td>\n",
       "      <td>NaN</td>\n",
       "      <td>-0.035432</td>\n",
       "      <td>0.001451</td>\n",
       "      <td>0.071466</td>\n",
       "      <td>0.009539</td>\n",
       "      <td>1.000000</td>\n",
       "      <td>0.051107</td>\n",
       "      <td>0.279741</td>\n",
       "      <td>0.076350</td>\n",
       "      <td>0.069830</td>\n",
       "      <td>-0.035432</td>\n",
       "    </tr>\n",
       "    <tr>\n",
       "      <th>umidmax</th>\n",
       "      <td>0.131103</td>\n",
       "      <td>0.006423</td>\n",
       "      <td>0.006423</td>\n",
       "      <td>0.008076</td>\n",
       "      <td>0.006423</td>\n",
       "      <td>0.030581</td>\n",
       "      <td>NaN</td>\n",
       "      <td>-0.006085</td>\n",
       "      <td>0.004730</td>\n",
       "      <td>0.009789</td>\n",
       "      <td>-0.004031</td>\n",
       "      <td>0.051107</td>\n",
       "      <td>1.000000</td>\n",
       "      <td>0.062014</td>\n",
       "      <td>0.021497</td>\n",
       "      <td>0.035109</td>\n",
       "      <td>-0.006085</td>\n",
       "    </tr>\n",
       "    <tr>\n",
       "      <th>receptivo</th>\n",
       "      <td>0.005782</td>\n",
       "      <td>0.077839</td>\n",
       "      <td>0.077839</td>\n",
       "      <td>0.102921</td>\n",
       "      <td>0.077839</td>\n",
       "      <td>0.321552</td>\n",
       "      <td>NaN</td>\n",
       "      <td>-0.005661</td>\n",
       "      <td>0.033799</td>\n",
       "      <td>0.410262</td>\n",
       "      <td>0.168299</td>\n",
       "      <td>0.279741</td>\n",
       "      <td>0.062014</td>\n",
       "      <td>1.000000</td>\n",
       "      <td>0.256436</td>\n",
       "      <td>0.369893</td>\n",
       "      <td>-0.005661</td>\n",
       "    </tr>\n",
       "    <tr>\n",
       "      <th>transmissao</th>\n",
       "      <td>0.019192</td>\n",
       "      <td>0.148075</td>\n",
       "      <td>0.148075</td>\n",
       "      <td>0.188852</td>\n",
       "      <td>0.148075</td>\n",
       "      <td>0.417020</td>\n",
       "      <td>NaN</td>\n",
       "      <td>0.005857</td>\n",
       "      <td>0.050685</td>\n",
       "      <td>0.099059</td>\n",
       "      <td>0.111296</td>\n",
       "      <td>0.076350</td>\n",
       "      <td>0.021497</td>\n",
       "      <td>0.256436</td>\n",
       "      <td>1.000000</td>\n",
       "      <td>0.514065</td>\n",
       "      <td>0.005857</td>\n",
       "    </tr>\n",
       "    <tr>\n",
       "      <th>nivel_inc</th>\n",
       "      <td>0.047702</td>\n",
       "      <td>0.190368</td>\n",
       "      <td>0.190368</td>\n",
       "      <td>0.250171</td>\n",
       "      <td>0.190368</td>\n",
       "      <td>0.660395</td>\n",
       "      <td>NaN</td>\n",
       "      <td>0.012196</td>\n",
       "      <td>0.063750</td>\n",
       "      <td>0.055121</td>\n",
       "      <td>0.164322</td>\n",
       "      <td>0.069830</td>\n",
       "      <td>0.035109</td>\n",
       "      <td>0.369893</td>\n",
       "      <td>0.514065</td>\n",
       "      <td>1.000000</td>\n",
       "      <td>0.012196</td>\n",
       "    </tr>\n",
       "    <tr>\n",
       "      <th>IBGE</th>\n",
       "      <td>0.000075</td>\n",
       "      <td>-0.008303</td>\n",
       "      <td>-0.008303</td>\n",
       "      <td>-0.004710</td>\n",
       "      <td>-0.008303</td>\n",
       "      <td>0.004121</td>\n",
       "      <td>NaN</td>\n",
       "      <td>1.000000</td>\n",
       "      <td>-0.024959</td>\n",
       "      <td>-0.008473</td>\n",
       "      <td>-0.025938</td>\n",
       "      <td>-0.035432</td>\n",
       "      <td>-0.006085</td>\n",
       "      <td>-0.005661</td>\n",
       "      <td>0.005857</td>\n",
       "      <td>0.012196</td>\n",
       "      <td>1.000000</td>\n",
       "    </tr>\n",
       "  </tbody>\n",
       "</table>\n",
       "</div>"
      ],
      "text/plain": [
       "                     SE  casos_est  casos_est_min  casos_est_max     casos  \\\n",
       "SE             1.000000  -0.000689      -0.000689       0.000665 -0.000689   \n",
       "casos_est     -0.000689   1.000000       1.000000       0.693516  1.000000   \n",
       "casos_est_min -0.000689   1.000000       1.000000       0.693516  1.000000   \n",
       "casos_est_max  0.000665   0.693516       0.693516       1.000000  0.693516   \n",
       "casos         -0.000689   1.000000       1.000000       0.693516  1.000000   \n",
       "p_inc100k      0.028072   0.233359       0.233359       0.287810  0.233359   \n",
       "Localidade_id       NaN        NaN            NaN            NaN       NaN   \n",
       "id             0.000075  -0.008303      -0.008303      -0.004710 -0.008303   \n",
       "tweet          0.006072   0.724134       0.724134       0.324067  0.724134   \n",
       "Rt            -0.000754   0.008483       0.008483       0.011972  0.008483   \n",
       "pop            0.000146   0.302751       0.302751       0.315865  0.302751   \n",
       "tempmin        0.001169   0.013656       0.013656       0.019447  0.013656   \n",
       "umidmax        0.131103   0.006423       0.006423       0.008076  0.006423   \n",
       "receptivo      0.005782   0.077839       0.077839       0.102921  0.077839   \n",
       "transmissao    0.019192   0.148075       0.148075       0.188852  0.148075   \n",
       "nivel_inc      0.047702   0.190368       0.190368       0.250171  0.190368   \n",
       "IBGE           0.000075  -0.008303      -0.008303      -0.004710 -0.008303   \n",
       "\n",
       "               p_inc100k  Localidade_id        id     tweet        Rt  \\\n",
       "SE              0.028072            NaN  0.000075  0.006072 -0.000754   \n",
       "casos_est       0.233359            NaN -0.008303  0.724134  0.008483   \n",
       "casos_est_min   0.233359            NaN -0.008303  0.724134  0.008483   \n",
       "casos_est_max   0.287810            NaN -0.004710  0.324067  0.011972   \n",
       "casos           0.233359            NaN -0.008303  0.724134  0.008483   \n",
       "p_inc100k       1.000000            NaN  0.004121  0.060327  0.111369   \n",
       "Localidade_id        NaN            NaN       NaN       NaN       NaN   \n",
       "id              0.004121            NaN  1.000000 -0.024959 -0.008473   \n",
       "tweet           0.060327            NaN -0.024959  1.000000  0.001163   \n",
       "Rt              0.111369            NaN -0.008473  0.001163  1.000000   \n",
       "pop             0.030806            NaN -0.025938  0.402104  0.013851   \n",
       "tempmin         0.066381            NaN -0.035432  0.001451  0.071466   \n",
       "umidmax         0.030581            NaN -0.006085  0.004730  0.009789   \n",
       "receptivo       0.321552            NaN -0.005661  0.033799  0.410262   \n",
       "transmissao     0.417020            NaN  0.005857  0.050685  0.099059   \n",
       "nivel_inc       0.660395            NaN  0.012196  0.063750  0.055121   \n",
       "IBGE            0.004121            NaN  1.000000 -0.024959 -0.008473   \n",
       "\n",
       "                    pop   tempmin   umidmax  receptivo  transmissao  \\\n",
       "SE             0.000146  0.001169  0.131103   0.005782     0.019192   \n",
       "casos_est      0.302751  0.013656  0.006423   0.077839     0.148075   \n",
       "casos_est_min  0.302751  0.013656  0.006423   0.077839     0.148075   \n",
       "casos_est_max  0.315865  0.019447  0.008076   0.102921     0.188852   \n",
       "casos          0.302751  0.013656  0.006423   0.077839     0.148075   \n",
       "p_inc100k      0.030806  0.066381  0.030581   0.321552     0.417020   \n",
       "Localidade_id       NaN       NaN       NaN        NaN          NaN   \n",
       "id            -0.025938 -0.035432 -0.006085  -0.005661     0.005857   \n",
       "tweet          0.402104  0.001451  0.004730   0.033799     0.050685   \n",
       "Rt             0.013851  0.071466  0.009789   0.410262     0.099059   \n",
       "pop            1.000000  0.009539 -0.004031   0.168299     0.111296   \n",
       "tempmin        0.009539  1.000000  0.051107   0.279741     0.076350   \n",
       "umidmax       -0.004031  0.051107  1.000000   0.062014     0.021497   \n",
       "receptivo      0.168299  0.279741  0.062014   1.000000     0.256436   \n",
       "transmissao    0.111296  0.076350  0.021497   0.256436     1.000000   \n",
       "nivel_inc      0.164322  0.069830  0.035109   0.369893     0.514065   \n",
       "IBGE          -0.025938 -0.035432 -0.006085  -0.005661     0.005857   \n",
       "\n",
       "               nivel_inc      IBGE  \n",
       "SE              0.047702  0.000075  \n",
       "casos_est       0.190368 -0.008303  \n",
       "casos_est_min   0.190368 -0.008303  \n",
       "casos_est_max   0.250171 -0.004710  \n",
       "casos           0.190368 -0.008303  \n",
       "p_inc100k       0.660395  0.004121  \n",
       "Localidade_id        NaN       NaN  \n",
       "id              0.012196  1.000000  \n",
       "tweet           0.063750 -0.024959  \n",
       "Rt              0.055121 -0.008473  \n",
       "pop             0.164322 -0.025938  \n",
       "tempmin         0.069830 -0.035432  \n",
       "umidmax         0.035109 -0.006085  \n",
       "receptivo       0.369893 -0.005661  \n",
       "transmissao     0.514065  0.005857  \n",
       "nivel_inc       1.000000  0.012196  \n",
       "IBGE            0.012196  1.000000  "
      ]
     },
     "execution_count": 14,
     "metadata": {},
     "output_type": "execute_result"
    }
   ],
   "source": [
    "df.corr()"
   ]
  },
  {
   "cell_type": "code",
   "execution_count": 15,
   "id": "c7cd1547",
   "metadata": {},
   "outputs": [],
   "source": [
    "import seaborn as sn"
   ]
  },
  {
   "cell_type": "code",
   "execution_count": 16,
   "id": "564aae0e",
   "metadata": {},
   "outputs": [],
   "source": [
    "correlation = df.corr()"
   ]
  },
  {
   "cell_type": "code",
   "execution_count": 17,
   "id": "1641655e",
   "metadata": {},
   "outputs": [
    {
     "data": {
      "text/plain": [
       "<AxesSubplot:>"
      ]
     },
     "execution_count": 17,
     "metadata": {},
     "output_type": "execute_result"
    },
    {
     "data": {
      "image/png": "[encoded data removed]",
      "text/plain": [
       "<Figure size 640x480 with 2 Axes>"
      ]
     },
     "metadata": {},
     "output_type": "display_data"
    }
   ],
   "source": [
    "# plot da matriz de correlação\n",
    "\n",
    "plot = sn.heatmap(correlation, annot = True, fmt=\".1f\", linewidths=.6)\n",
    "plot"
   ]
  },
  {
   "cell_type": "code",
   "execution_count": 18,
   "id": "8733c98c",
   "metadata": {},
   "outputs": [],
   "source": [
    "#Retirando colunas com pouca correlação\n",
    "df.drop(['Localidade_id', 'id','IBGE','casos_est','casos_est_min','casos_est_max'],axis=1, inplace=True)"
   ]
  },
  {
   "cell_type": "code",
   "execution_count": 19,
   "id": "bf2505c5",
   "metadata": {},
   "outputs": [
    {
     "data": {
      "text/plain": [
       "Index(['SE', 'casos', 'p_inc100k', 'tweet', 'Rt', 'pop', 'tempmin', 'umidmax',\n",
       "       'receptivo', 'transmissao', 'nivel_inc'],\n",
       "      dtype='object')"
      ]
     },
     "execution_count": 19,
     "metadata": {},
     "output_type": "execute_result"
    }
   ],
   "source": [
    "df.columns\n"
   ]
  },
  {
   "cell_type": "code",
   "execution_count": 20,
   "id": "71ea1d5a",
   "metadata": {},
   "outputs": [
    {
     "data": {
      "text/plain": [
       "<AxesSubplot:>"
      ]
     },
     "execution_count": 20,
     "metadata": {},
     "output_type": "execute_result"
    },
    {
     "data": {
      "image/png": "[encoded data removed]",
      "text/plain": [
       "<Figure size 640x480 with 2 Axes>"
      ]
     },
     "metadata": {},
     "output_type": "display_data"
    }
   ],
   "source": [
    "correlation = df.corr()\n",
    "# plot da matriz de correlação\n",
    "\n",
    "plot = sn.heatmap(correlation, annot = True, fmt=\".1f\", linewidths=.6)\n",
    "plot"
   ]
  },
  {
   "cell_type": "code",
   "execution_count": 21,
   "id": "8bd0ce5a",
   "metadata": {},
   "outputs": [
    {
     "data": {
      "text/html": [
       "<div>\n",
       "<style scoped>\n",
       "    .dataframe tbody tr th:only-of-type {\n",
       "        vertical-align: middle;\n",
       "    }\n",
       "\n",
       "    .dataframe tbody tr th {\n",
       "        vertical-align: top;\n",
       "    }\n",
       "\n",
       "    .dataframe thead th {\n",
       "        text-align: right;\n",
       "    }\n",
       "</style>\n",
       "<table border=\"1\" class=\"dataframe\">\n",
       "  <thead>\n",
       "    <tr style=\"text-align: right;\">\n",
       "      <th></th>\n",
       "      <th>SE</th>\n",
       "      <th>casos</th>\n",
       "      <th>p_inc100k</th>\n",
       "      <th>tweet</th>\n",
       "      <th>Rt</th>\n",
       "      <th>pop</th>\n",
       "      <th>tempmin</th>\n",
       "      <th>umidmax</th>\n",
       "      <th>receptivo</th>\n",
       "      <th>transmissao</th>\n",
       "      <th>nivel_inc</th>\n",
       "    </tr>\n",
       "  </thead>\n",
       "  <tbody>\n",
       "    <tr>\n",
       "      <th>0</th>\n",
       "      <td>202252</td>\n",
       "      <td>5</td>\n",
       "      <td>71.36740</td>\n",
       "      <td>0.0</td>\n",
       "      <td>3.0</td>\n",
       "      <td>7006.0</td>\n",
       "      <td>19.000000</td>\n",
       "      <td>90.143363</td>\n",
       "      <td>1</td>\n",
       "      <td>0</td>\n",
       "      <td>0</td>\n",
       "    </tr>\n",
       "    <tr>\n",
       "      <th>1</th>\n",
       "      <td>202251</td>\n",
       "      <td>6</td>\n",
       "      <td>85.64088</td>\n",
       "      <td>0.0</td>\n",
       "      <td>19.0</td>\n",
       "      <td>7006.0</td>\n",
       "      <td>18.500000</td>\n",
       "      <td>93.929770</td>\n",
       "      <td>1</td>\n",
       "      <td>1</td>\n",
       "      <td>1</td>\n",
       "    </tr>\n",
       "    <tr>\n",
       "      <th>2</th>\n",
       "      <td>202250</td>\n",
       "      <td>0</td>\n",
       "      <td>0.00000</td>\n",
       "      <td>0.0</td>\n",
       "      <td>0.0</td>\n",
       "      <td>7006.0</td>\n",
       "      <td>19.333333</td>\n",
       "      <td>91.129324</td>\n",
       "      <td>0</td>\n",
       "      <td>0</td>\n",
       "      <td>0</td>\n",
       "    </tr>\n",
       "    <tr>\n",
       "      <th>3</th>\n",
       "      <td>202249</td>\n",
       "      <td>0</td>\n",
       "      <td>0.00000</td>\n",
       "      <td>0.0</td>\n",
       "      <td>0.0</td>\n",
       "      <td>7006.0</td>\n",
       "      <td>19.571429</td>\n",
       "      <td>90.827383</td>\n",
       "      <td>0</td>\n",
       "      <td>0</td>\n",
       "      <td>0</td>\n",
       "    </tr>\n",
       "    <tr>\n",
       "      <th>4</th>\n",
       "      <td>202248</td>\n",
       "      <td>0</td>\n",
       "      <td>0.00000</td>\n",
       "      <td>0.0</td>\n",
       "      <td>0.0</td>\n",
       "      <td>7006.0</td>\n",
       "      <td>18.714286</td>\n",
       "      <td>85.947719</td>\n",
       "      <td>0</td>\n",
       "      <td>0</td>\n",
       "      <td>0</td>\n",
       "    </tr>\n",
       "  </tbody>\n",
       "</table>\n",
       "</div>"
      ],
      "text/plain": [
       "       SE  casos  p_inc100k  tweet    Rt     pop    tempmin    umidmax  \\\n",
       "0  202252      5   71.36740    0.0   3.0  7006.0  19.000000  90.143363   \n",
       "1  202251      6   85.64088    0.0  19.0  7006.0  18.500000  93.929770   \n",
       "2  202250      0    0.00000    0.0   0.0  7006.0  19.333333  91.129324   \n",
       "3  202249      0    0.00000    0.0   0.0  7006.0  19.571429  90.827383   \n",
       "4  202248      0    0.00000    0.0   0.0  7006.0  18.714286  85.947719   \n",
       "\n",
       "   receptivo  transmissao  nivel_inc  \n",
       "0          1            0          0  \n",
       "1          1            1          1  \n",
       "2          0            0          0  \n",
       "3          0            0          0  \n",
       "4          0            0          0  "
      ]
     },
     "execution_count": 21,
     "metadata": {},
     "output_type": "execute_result"
    }
   ],
   "source": [
    "df.head()"
   ]
  },
  {
   "cell_type": "markdown",
   "id": "ddb54ef5",
   "metadata": {},
   "source": [
    "## Normalizando"
   ]
  },
  {
   "cell_type": "code",
   "execution_count": 22,
   "id": "ecea84bc",
   "metadata": {},
   "outputs": [],
   "source": [
    "df = pd.get_dummies(df, drop_first=True)"
   ]
  },
  {
   "cell_type": "code",
   "execution_count": 23,
   "id": "b18865ce",
   "metadata": {},
   "outputs": [
    {
     "data": {
      "text/html": [
       "<div>\n",
       "<style scoped>\n",
       "    .dataframe tbody tr th:only-of-type {\n",
       "        vertical-align: middle;\n",
       "    }\n",
       "\n",
       "    .dataframe tbody tr th {\n",
       "        vertical-align: top;\n",
       "    }\n",
       "\n",
       "    .dataframe thead th {\n",
       "        text-align: right;\n",
       "    }\n",
       "</style>\n",
       "<table border=\"1\" class=\"dataframe\">\n",
       "  <thead>\n",
       "    <tr style=\"text-align: right;\">\n",
       "      <th></th>\n",
       "      <th>SE</th>\n",
       "      <th>casos</th>\n",
       "      <th>p_inc100k</th>\n",
       "      <th>tweet</th>\n",
       "      <th>Rt</th>\n",
       "      <th>pop</th>\n",
       "      <th>tempmin</th>\n",
       "      <th>umidmax</th>\n",
       "      <th>receptivo</th>\n",
       "      <th>transmissao</th>\n",
       "      <th>nivel_inc</th>\n",
       "    </tr>\n",
       "  </thead>\n",
       "  <tbody>\n",
       "    <tr>\n",
       "      <th>0</th>\n",
       "      <td>202252</td>\n",
       "      <td>5</td>\n",
       "      <td>71.36740</td>\n",
       "      <td>0.0</td>\n",
       "      <td>3.0</td>\n",
       "      <td>7006.0</td>\n",
       "      <td>19.000000</td>\n",
       "      <td>90.143363</td>\n",
       "      <td>1</td>\n",
       "      <td>0</td>\n",
       "      <td>0</td>\n",
       "    </tr>\n",
       "    <tr>\n",
       "      <th>1</th>\n",
       "      <td>202251</td>\n",
       "      <td>6</td>\n",
       "      <td>85.64088</td>\n",
       "      <td>0.0</td>\n",
       "      <td>19.0</td>\n",
       "      <td>7006.0</td>\n",
       "      <td>18.500000</td>\n",
       "      <td>93.929770</td>\n",
       "      <td>1</td>\n",
       "      <td>1</td>\n",
       "      <td>1</td>\n",
       "    </tr>\n",
       "    <tr>\n",
       "      <th>2</th>\n",
       "      <td>202250</td>\n",
       "      <td>0</td>\n",
       "      <td>0.00000</td>\n",
       "      <td>0.0</td>\n",
       "      <td>0.0</td>\n",
       "      <td>7006.0</td>\n",
       "      <td>19.333333</td>\n",
       "      <td>91.129324</td>\n",
       "      <td>0</td>\n",
       "      <td>0</td>\n",
       "      <td>0</td>\n",
       "    </tr>\n",
       "    <tr>\n",
       "      <th>3</th>\n",
       "      <td>202249</td>\n",
       "      <td>0</td>\n",
       "      <td>0.00000</td>\n",
       "      <td>0.0</td>\n",
       "      <td>0.0</td>\n",
       "      <td>7006.0</td>\n",
       "      <td>19.571429</td>\n",
       "      <td>90.827383</td>\n",
       "      <td>0</td>\n",
       "      <td>0</td>\n",
       "      <td>0</td>\n",
       "    </tr>\n",
       "    <tr>\n",
       "      <th>4</th>\n",
       "      <td>202248</td>\n",
       "      <td>0</td>\n",
       "      <td>0.00000</td>\n",
       "      <td>0.0</td>\n",
       "      <td>0.0</td>\n",
       "      <td>7006.0</td>\n",
       "      <td>18.714286</td>\n",
       "      <td>85.947719</td>\n",
       "      <td>0</td>\n",
       "      <td>0</td>\n",
       "      <td>0</td>\n",
       "    </tr>\n",
       "  </tbody>\n",
       "</table>\n",
       "</div>"
      ],
      "text/plain": [
       "       SE  casos  p_inc100k  tweet    Rt     pop    tempmin    umidmax  \\\n",
       "0  202252      5   71.36740    0.0   3.0  7006.0  19.000000  90.143363   \n",
       "1  202251      6   85.64088    0.0  19.0  7006.0  18.500000  93.929770   \n",
       "2  202250      0    0.00000    0.0   0.0  7006.0  19.333333  91.129324   \n",
       "3  202249      0    0.00000    0.0   0.0  7006.0  19.571429  90.827383   \n",
       "4  202248      0    0.00000    0.0   0.0  7006.0  18.714286  85.947719   \n",
       "\n",
       "   receptivo  transmissao  nivel_inc  \n",
       "0          1            0          0  \n",
       "1          1            1          1  \n",
       "2          0            0          0  \n",
       "3          0            0          0  \n",
       "4          0            0          0  "
      ]
     },
     "execution_count": 23,
     "metadata": {},
     "output_type": "execute_result"
    }
   ],
   "source": [
    "df.head()"
   ]
  },
  {
   "cell_type": "code",
   "execution_count": 24,
   "id": "9584a6c7",
   "metadata": {},
   "outputs": [],
   "source": [
    "from sklearn.preprocessing import StandardScaler"
   ]
  },
  {
   "cell_type": "code",
   "execution_count": 25,
   "id": "92fa58f2",
   "metadata": {},
   "outputs": [],
   "source": [
    "scale = StandardScaler()\n",
    "df_sc = scale.fit_transform(df)\n",
    "df_sc = pd.DataFrame(df_sc, columns=df.columns)"
   ]
  },
  {
   "cell_type": "code",
   "execution_count": 26,
   "id": "e290d975",
   "metadata": {},
   "outputs": [
    {
     "data": {
      "text/html": [
       "<div>\n",
       "<style scoped>\n",
       "    .dataframe tbody tr th:only-of-type {\n",
       "        vertical-align: middle;\n",
       "    }\n",
       "\n",
       "    .dataframe tbody tr th {\n",
       "        vertical-align: top;\n",
       "    }\n",
       "\n",
       "    .dataframe thead th {\n",
       "        text-align: right;\n",
       "    }\n",
       "</style>\n",
       "<table border=\"1\" class=\"dataframe\">\n",
       "  <thead>\n",
       "    <tr style=\"text-align: right;\">\n",
       "      <th></th>\n",
       "      <th>SE</th>\n",
       "      <th>casos</th>\n",
       "      <th>p_inc100k</th>\n",
       "      <th>tweet</th>\n",
       "      <th>Rt</th>\n",
       "      <th>pop</th>\n",
       "      <th>tempmin</th>\n",
       "      <th>umidmax</th>\n",
       "      <th>receptivo</th>\n",
       "      <th>transmissao</th>\n",
       "      <th>nivel_inc</th>\n",
       "    </tr>\n",
       "  </thead>\n",
       "  <tbody>\n",
       "    <tr>\n",
       "      <th>0</th>\n",
       "      <td>1.608714</td>\n",
       "      <td>0.008953</td>\n",
       "      <td>1.212576</td>\n",
       "      <td>-0.026739</td>\n",
       "      <td>0.590096</td>\n",
       "      <td>-0.177613</td>\n",
       "      <td>0.530676</td>\n",
       "      <td>0.258418</td>\n",
       "      <td>2.297066</td>\n",
       "      <td>-0.136234</td>\n",
       "      <td>-0.268359</td>\n",
       "    </tr>\n",
       "    <tr>\n",
       "      <th>1</th>\n",
       "      <td>1.602872</td>\n",
       "      <td>0.020923</td>\n",
       "      <td>1.498299</td>\n",
       "      <td>-0.026739</td>\n",
       "      <td>5.311003</td>\n",
       "      <td>-0.177613</td>\n",
       "      <td>0.381287</td>\n",
       "      <td>0.398661</td>\n",
       "      <td>2.297066</td>\n",
       "      <td>7.340306</td>\n",
       "      <td>2.346891</td>\n",
       "    </tr>\n",
       "    <tr>\n",
       "      <th>2</th>\n",
       "      <td>1.597031</td>\n",
       "      <td>-0.050897</td>\n",
       "      <td>-0.216040</td>\n",
       "      <td>-0.026739</td>\n",
       "      <td>-0.295074</td>\n",
       "      <td>-0.177613</td>\n",
       "      <td>0.630269</td>\n",
       "      <td>0.294937</td>\n",
       "      <td>-0.435338</td>\n",
       "      <td>-0.136234</td>\n",
       "      <td>-0.268359</td>\n",
       "    </tr>\n",
       "    <tr>\n",
       "      <th>3</th>\n",
       "      <td>1.591189</td>\n",
       "      <td>-0.050897</td>\n",
       "      <td>-0.216040</td>\n",
       "      <td>-0.026739</td>\n",
       "      <td>-0.295074</td>\n",
       "      <td>-0.177613</td>\n",
       "      <td>0.701406</td>\n",
       "      <td>0.283753</td>\n",
       "      <td>-0.435338</td>\n",
       "      <td>-0.136234</td>\n",
       "      <td>-0.268359</td>\n",
       "    </tr>\n",
       "    <tr>\n",
       "      <th>4</th>\n",
       "      <td>1.585348</td>\n",
       "      <td>-0.050897</td>\n",
       "      <td>-0.216040</td>\n",
       "      <td>-0.026739</td>\n",
       "      <td>-0.295074</td>\n",
       "      <td>-0.177613</td>\n",
       "      <td>0.445311</td>\n",
       "      <td>0.103018</td>\n",
       "      <td>-0.435338</td>\n",
       "      <td>-0.136234</td>\n",
       "      <td>-0.268359</td>\n",
       "    </tr>\n",
       "  </tbody>\n",
       "</table>\n",
       "</div>"
      ],
      "text/plain": [
       "         SE     casos  p_inc100k     tweet        Rt       pop   tempmin  \\\n",
       "0  1.608714  0.008953   1.212576 -0.026739  0.590096 -0.177613  0.530676   \n",
       "1  1.602872  0.020923   1.498299 -0.026739  5.311003 -0.177613  0.381287   \n",
       "2  1.597031 -0.050897  -0.216040 -0.026739 -0.295074 -0.177613  0.630269   \n",
       "3  1.591189 -0.050897  -0.216040 -0.026739 -0.295074 -0.177613  0.701406   \n",
       "4  1.585348 -0.050897  -0.216040 -0.026739 -0.295074 -0.177613  0.445311   \n",
       "\n",
       "    umidmax  receptivo  transmissao  nivel_inc  \n",
       "0  0.258418   2.297066    -0.136234  -0.268359  \n",
       "1  0.398661   2.297066     7.340306   2.346891  \n",
       "2  0.294937  -0.435338    -0.136234  -0.268359  \n",
       "3  0.283753  -0.435338    -0.136234  -0.268359  \n",
       "4  0.103018  -0.435338    -0.136234  -0.268359  "
      ]
     },
     "execution_count": 26,
     "metadata": {},
     "output_type": "execute_result"
    }
   ],
   "source": [
    "df_sc.head()"
   ]
  },
  {
   "cell_type": "markdown",
   "id": "0df01e63",
   "metadata": {},
   "source": [
    "# Definindo variáveis e dados"
   ]
  },
  {
   "cell_type": "code",
   "execution_count": 27,
   "id": "5a7a9e7c",
   "metadata": {},
   "outputs": [],
   "source": [
    "y = df_sc['casos']\n",
    "X = df_sc.drop('casos', axis=1)\n",
    "\n",
    "from sklearn.model_selection import train_test_split\n",
    "X_train, X_test, y_train, y_test = train_test_split(X, y, test_size=0.3, random_state=100)"
   ]
  },
  {
   "cell_type": "markdown",
   "id": "7558f4fa",
   "metadata": {},
   "source": [
    "# SVR"
   ]
  },
  {
   "cell_type": "code",
   "execution_count": 28,
   "id": "077e1026",
   "metadata": {},
   "outputs": [],
   "source": [
    "from sklearn.svm import SVR"
   ]
  },
  {
   "cell_type": "code",
   "execution_count": 29,
   "id": "449b7272",
   "metadata": {},
   "outputs": [
    {
     "data": {
      "text/plain": [
       "SVR()"
      ]
     },
     "execution_count": 29,
     "metadata": {},
     "output_type": "execute_result"
    }
   ],
   "source": [
    "# Fitting SVM regression to the Training set\n",
    "SVM_regression = SVR()\n",
    "SVM_regression.fit(X_train, y_train)"
   ]
  },
  {
   "cell_type": "code",
   "execution_count": 30,
   "id": "976fcb73",
   "metadata": {},
   "outputs": [],
   "source": [
    "# Prevendo os resultados do conjunto de teste\n",
    "y_hat = SVM_regression.predict(X_test)"
   ]
  },
  {
   "cell_type": "code",
   "execution_count": 31,
   "id": "dbf874c6",
   "metadata": {},
   "outputs": [
    {
     "data": {
      "text/html": [
       "<div>\n",
       "<style scoped>\n",
       "    .dataframe tbody tr th:only-of-type {\n",
       "        vertical-align: middle;\n",
       "    }\n",
       "\n",
       "    .dataframe tbody tr th {\n",
       "        vertical-align: top;\n",
       "    }\n",
       "\n",
       "    .dataframe thead th {\n",
       "        text-align: right;\n",
       "    }\n",
       "</style>\n",
       "<table border=\"1\" class=\"dataframe\">\n",
       "  <thead>\n",
       "    <tr style=\"text-align: right;\">\n",
       "      <th></th>\n",
       "      <th>y_test</th>\n",
       "      <th>y_hat</th>\n",
       "    </tr>\n",
       "  </thead>\n",
       "  <tbody>\n",
       "    <tr>\n",
       "      <th>266559</th>\n",
       "      <td>-0.050897</td>\n",
       "      <td>-0.004358</td>\n",
       "    </tr>\n",
       "    <tr>\n",
       "      <th>75715</th>\n",
       "      <td>-0.026957</td>\n",
       "      <td>-0.034600</td>\n",
       "    </tr>\n",
       "    <tr>\n",
       "      <th>229996</th>\n",
       "      <td>-0.050897</td>\n",
       "      <td>-0.056904</td>\n",
       "    </tr>\n",
       "    <tr>\n",
       "      <th>113445</th>\n",
       "      <td>-0.050897</td>\n",
       "      <td>-0.058648</td>\n",
       "    </tr>\n",
       "    <tr>\n",
       "      <th>54470</th>\n",
       "      <td>-0.050897</td>\n",
       "      <td>0.047138</td>\n",
       "    </tr>\n",
       "  </tbody>\n",
       "</table>\n",
       "</div>"
      ],
      "text/plain": [
       "          y_test     y_hat\n",
       "266559 -0.050897 -0.004358\n",
       "75715  -0.026957 -0.034600\n",
       "229996 -0.050897 -0.056904\n",
       "113445 -0.050897 -0.058648\n",
       "54470  -0.050897  0.047138"
      ]
     },
     "execution_count": 31,
     "metadata": {},
     "output_type": "execute_result"
    }
   ],
   "source": [
    "predictions = pd.DataFrame({ 'y_test':y_test,'y_hat':y_hat})\n",
    "predictions.head()"
   ]
  },
  {
   "cell_type": "code",
   "execution_count": 32,
   "id": "dac9b1ff",
   "metadata": {},
   "outputs": [
    {
     "data": {
      "text/plain": [
       "0.10737361426835945"
      ]
     },
     "execution_count": 32,
     "metadata": {},
     "output_type": "execute_result"
    }
   ],
   "source": [
    "SVM_regression.score(X_test, y_test)"
   ]
  },
  {
   "cell_type": "code",
   "execution_count": 33,
   "id": "6dc5575f",
   "metadata": {},
   "outputs": [
    {
     "name": "stderr",
     "output_type": "stream",
     "text": [
      "C:\\ProgramData\\Anaconda3\\lib\\site-packages\\seaborn\\_decorators.py:36: FutureWarning: Pass the following variables as keyword args: x, y. From version 0.12, the only valid positional argument will be `data`, and passing other arguments without an explicit keyword will result in an error or misinterpretation.\n",
      "  warnings.warn(\n"
     ]
    },
    {
     "data": {
      "image/png": "[encoded data removed]",
      "text/plain": [
       "<Figure size 640x480 with 1 Axes>"
      ]
     },
     "metadata": {},
     "output_type": "display_data"
    }
   ],
   "source": [
    "sn.scatterplot(x=y_test, y=y_hat, alpha=0.6)\n",
    "sn.lineplot(y_test, y_test)\n",
    "\n",
    "plt.xlabel('Actual count', fontsize=14)\n",
    "plt.ylabel('Prediced  count', fontsize=14)\n",
    "plt.title('Actual vs Predicted  count (test set)', fontsize=17)\n",
    "plt.show()"
   ]
  },
  {
   "cell_type": "code",
   "execution_count": 34,
   "id": "d2002f8b",
   "metadata": {},
   "outputs": [
    {
     "data": {
      "text/plain": [
       "1.2"
      ]
     },
     "execution_count": 34,
     "metadata": {},
     "output_type": "execute_result"
    }
   ],
   "source": [
    "MSE_test = round(np.mean(np.square(y_test - y_hat)),2)\n",
    "RMSE_test = round(np.sqrt(MSE_test),2)\n",
    "RMSE_test"
   ]
  },
  {
   "cell_type": "code",
   "execution_count": 35,
   "id": "da104416",
   "metadata": {},
   "outputs": [
    {
     "data": {
      "text/plain": [
       "1.44"
      ]
     },
     "execution_count": 35,
     "metadata": {},
     "output_type": "execute_result"
    }
   ],
   "source": [
    "MSE_test"
   ]
  },
  {
   "cell_type": "code",
   "execution_count": 1,
   "id": "77618ef1",
   "metadata": {},
   "outputs": [
    {
     "ename": "NameError",
     "evalue": "name 'SVM_regression' is not defined",
     "output_type": "error",
     "traceback": [
      "\u001b[1;31m---------------------------------------------------------------------------\u001b[0m",
      "\u001b[1;31mNameError\u001b[0m                                 Traceback (most recent call last)",
      "\u001b[1;32m~\\AppData\\Local\\Temp\\ipykernel_11908\\940331934.py\u001b[0m in \u001b[0;36m<module>\u001b[1;34m\u001b[0m\n\u001b[1;32m----> 1\u001b[1;33m \u001b[0mSVM_regression\u001b[0m\u001b[1;33m.\u001b[0m\u001b[0msummary\u001b[0m\u001b[1;33m\u001b[0m\u001b[1;33m\u001b[0m\u001b[0m\n\u001b[0m",
      "\u001b[1;31mNameError\u001b[0m: name 'SVM_regression' is not defined"
     ]
    }
   ],
   "source": [
    "SVM_regression.summary"
   ]
  },
  {
   "cell_type": "code",
   "execution_count": null,
   "id": "391a60d6",
   "metadata": {},
   "outputs": [],
   "source": []
  }
 ],
 "metadata": {
  "kernelspec": {
   "display_name": "Python 3 (ipykernel)",
   "language": "python",
   "name": "python3"
  },
  "language_info": {
   "codemirror_mode": {
    "name": "ipython",
    "version": 3
   },
   "file_extension": ".py",
   "mimetype": "text/x-python",
   "name": "python",
   "nbconvert_exporter": "python",
   "pygments_lexer": "ipython3",
   "version": "3.9.13"
  }
 },
 "nbformat": 4,
 "nbformat_minor": 5
}
